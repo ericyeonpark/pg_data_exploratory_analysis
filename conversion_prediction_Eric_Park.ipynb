{
 "cells": [
  {
   "cell_type": "code",
   "execution_count": null,
   "source": [
    "import re\r\n",
    "\r\n",
    "# to handle datasets\r\n",
    "import pandas as pd\r\n",
    "import numpy as np\r\n",
    "\r\n",
    "# for visualization\r\n",
    "import matplotlib.pyplot as plt\r\n",
    "\r\n",
    "# to divide train and test set\r\n",
    "from sklearn.model_selection import train_test_split\r\n",
    "\r\n",
    "# feature scaling\r\n",
    "from sklearn.preprocessing import StandardScaler\r\n",
    "\r\n",
    "# to build the models\r\n",
    "from sklearn.linear_model import LogisticRegression\r\n",
    "\r\n",
    "# to evaluate the models\r\n",
    "from sklearn.metrics import accuracy_score, roc_auc_score\r\n",
    "\r\n",
    "# to persist the model and the scaler\r\n",
    "import joblib\r\n",
    "\r\n",
    "# import datetime\r\n",
    "import datetime\r\n",
    "\r\n",
    "# to visualise al the columns in the dataframe\r\n",
    "pd.pandas.set_option('display.max_columns', None)\r\n",
    "pd.pandas.set_option('display.max_rows', 100)"
   ],
   "outputs": [],
   "metadata": {}
  }
 ],
 "metadata": {
  "orig_nbformat": 4,
  "language_info": {
   "name": "python"
  }
 },
 "nbformat": 4,
 "nbformat_minor": 2
}